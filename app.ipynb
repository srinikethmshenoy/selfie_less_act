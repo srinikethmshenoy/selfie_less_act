{
 "cells": [
  {
   "cell_type": "code",
   "execution_count": 11,
   "metadata": {},
   "outputs": [
    {
     "ename": "NameError",
     "evalue": "name 'Untitled' is not defined",
     "output_type": "error",
     "traceback": [
      "\u001b[1;31m---------------------------------------------------------------------------\u001b[0m",
      "\u001b[1;31mNameError\u001b[0m                                 Traceback (most recent call last)",
      "\u001b[1;32m<ipython-input-11-4fd40c75e425>\u001b[0m in \u001b[0;36m<module>\u001b[1;34m()\u001b[0m\n\u001b[0;32m     26\u001b[0m \u001b[1;33m\u001b[0m\u001b[0m\n\u001b[0;32m     27\u001b[0m \u001b[1;32mif\u001b[0m\u001b[1;33m(\u001b[0m\u001b[0m__name__\u001b[0m\u001b[1;33m==\u001b[0m\u001b[1;34m\"__main__\"\u001b[0m\u001b[1;33m)\u001b[0m\u001b[1;33m:\u001b[0m\u001b[1;33m\u001b[0m\u001b[0m\n\u001b[1;32m---> 28\u001b[1;33m         \u001b[0mUntitled\u001b[0m\u001b[1;33m.\u001b[0m\u001b[0mrun\u001b[0m\u001b[1;33m(\u001b[0m\u001b[0mport\u001b[0m\u001b[1;33m=\u001b[0m\u001b[1;36m4555\u001b[0m\u001b[1;33m,\u001b[0m\u001b[0mdebug\u001b[0m\u001b[1;33m=\u001b[0m\u001b[1;32mTrue\u001b[0m\u001b[1;33m)\u001b[0m\u001b[1;33m\u001b[0m\u001b[0m\n\u001b[0m",
      "\u001b[1;31mNameError\u001b[0m: name 'Untitled' is not defined"
     ]
    }
   ],
   "source": [
    "import os\n",
    "from flask import Flask,render_template,request\n",
    "__author__=\"sriniketh\"\n",
    "\n",
    "app=Flask(__name__)\n",
    "\n",
    "APP_ROOT=os.path.dirname(os.path.abspath(\"__file__\"))\n",
    "@app.route(\"/\")\n",
    "def index():\n",
    "\treturn render_template(\"upload.html\")\n",
    "@app.route(\"/upload\",methods=['POST'])\n",
    "def upload():\n",
    "\ttarget=os.path.join(APP_ROOT,\"images/\")\n",
    "\tprint(target)  # to verify that the file is getting uploaded correctly\n",
    "\n",
    "\tif not os.path.isdir(target): #if the dir doesnot exist we must make it\n",
    "\t\tos.mkdir(target)\n",
    "\n",
    "\tfor fiel in request.files.getlist(\"file\"):\t   # for the files selected by the user in the frontend\n",
    "\t\tprint(file)\n",
    "\t\tfilename=file.filename  #gives the file name of the file upploaded\n",
    "\t\tdestination=\"/\".join([target,filename])\n",
    "\t\tprint(destination)\n",
    "\t\tfile.save(destination)  # to save to the destination\n",
    "\treturn render_template(\"exit.html\")\n",
    "\n",
    "if(__name__==\"__main__\"):\n",
    "\tUntitled.run(port=4555,debug=True)\t"
   ]
  },
  {
   "cell_type": "code",
   "execution_count": null,
   "metadata": {},
   "outputs": [],
   "source": []
  },
  {
   "cell_type": "code",
   "execution_count": null,
   "metadata": {},
   "outputs": [],
   "source": []
  }
 ],
 "metadata": {
  "kernelspec": {
   "display_name": "Python 3",
   "language": "python",
   "name": "python3"
  },
  "language_info": {
   "codemirror_mode": {
    "name": "ipython",
    "version": 3
   },
   "file_extension": ".py",
   "mimetype": "text/x-python",
   "name": "python",
   "nbconvert_exporter": "python",
   "pygments_lexer": "ipython3",
   "version": "3.6.5"
  }
 },
 "nbformat": 4,
 "nbformat_minor": 2
}
